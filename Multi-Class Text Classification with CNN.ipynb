{
 "cells": [
  {
   "cell_type": "code",
   "execution_count": 55,
   "metadata": {
    "collapsed": true
   },
   "outputs": [],
   "source": [
    "# Imports\n",
    "\n",
    "import random\n",
    "import numpy as np\n",
    "import pandas as pd\n",
    "import matplotlib.pyplot as plt\n",
    "from sklearn.model_selection import train_test_split\n",
    "from sklearn.feature_extraction.text import TfidfVectorizer\n",
    "from sklearn.feature_extraction.text import CountVectorizer\n",
    "from sklearn.feature_extraction.text import TfidfTransformer\n",
    "from sklearn.naive_bayes import MultinomialNB\n",
    "from sklearn.feature_selection import chi2\n",
    "from sklearn.model_selection import cross_val_score\n",
    "from sklearn.metrics import accuracy_score, log_loss, roc_auc_score\n",
    "from keras.preprocessing import text, sequence\n",
    "from keras import layers, models, optimizers\n",
    "\n",
    "import warnings\n",
    "warnings.filterwarnings(\"ignore\")"
   ]
  },
  {
   "cell_type": "markdown",
   "metadata": {},
   "source": [
    "# 1. Data\n",
    "\n",
    "### Kiva.org Loans Listing\n",
    "\n",
    "This dataset is from the Kiva API (https://build.kiva.org). More specifically, this is Kiva’s Loans Data Snapshot, which contains all the loan listings that Kiva has posted from 2006 till January 2018. The dataset contains 1.4M rows and 34 columns. Each listing contains information that shows the key details of a loan, including name, loan amount, loan description, sector, and so on.\n",
    "\n",
    "\n",
    "The following variables from the dataset will be used: \n",
    "\n",
    "\n",
    "loans.csv\n",
    "\n",
    "`|-- posted_time: the datetime the loan was posted on the Kiva.org website (datetime)\n",
    "|-- original_description: the description of the loan in the language of the country the borrower is from (string)\n",
    "|-- translated_description: the description of the loan translated to English if the original language is not English (string)\n",
    "|-- sector: the specific category of the loan (categorical)`\n",
    "\n"
   ]
  },
  {
   "cell_type": "code",
   "execution_count": 2,
   "metadata": {
    "collapsed": true
   },
   "outputs": [],
   "source": [
    "NEW_names = [\"LOAN_ID\",\"LOAN_NAME\",\"ORIGINAL_LANGUAGE\",\"DESCRIPTION\",\"DESCRIPTION_TRANSLATED\",\"FUNDED_AMOUNT\",\"LOAN_AMOUNT\",\"STATUS\",\"IMAGE_ID\",\"VIDEO_ID\",\"ACTIVITY_NAME\",\"SECTOR_NAME\",\"LOAN_USE\",\"COUNTRY_CODE\",\"COUNTRY_NAME\",\"TOWN_NAME\",\"CURRENCY_POLICY\",\"CURRENCY_EXCHANGE_COVERAGE_RATE\",\"CURRENCY\",\"PARTNER_ID\",\"POSTED_TIME\",\"PLANNED_EXPIRATION_TIME\",\"DISBURSE_TIME\",\"RAISED_TIME\",\"LENDER_TERM\",\"NUM_LENDERS_TOTAL\",\"NUM_JOURNAL_ENTRIES\",\"NUM_BULK_ENTRIES\",\"TAGS\",\"BORROWER_NAMES\",\"BORROWER_GENDERS\",\"BORROWER_PICTURED\",\"REPAYMENT_INTERVAL\",\"DISTRIBUTION_MODEL\"]\n",
    "OLD_names = ['id','name','original_language','original_description','translated_description','funded_amount','loan_amount','status','image_id','video_id','activity','sector','use','country_code','country_name','town','currency_policy', 'currency_exchange_coverage_rate','currency','partner_id','posted_time','planned_expiration_time','disbursed_time','funded_time','term_in_months','lender_count','journal_entries_count','bulk_journal_entries_count','tags','borrower_names','borrower_genders','borrower_pictured','repayment_interval','distribution_model']\n",
    "dic = {}\n",
    "for (k,v) in zip(NEW_names, OLD_names):\n",
    "    dic[k]=v"
   ]
  },
  {
   "cell_type": "code",
   "execution_count": 3,
   "metadata": {
    "collapsed": true
   },
   "outputs": [],
   "source": [
    "raw_data = pd.read_csv('loans.csv',\n",
    "                   parse_dates=[\"POSTED_TIME\", \"PLANNED_EXPIRATION_TIME\",\n",
    "                               \"DISBURSE_TIME\", \"RAISED_TIME\"])\n",
    "raw_data2 = raw_data.rename(columns=dic)"
   ]
  },
  {
   "cell_type": "code",
   "execution_count": 4,
   "metadata": {},
   "outputs": [
    {
     "data": {
      "text/plain": [
       "(1419607, 34)"
      ]
     },
     "execution_count": 4,
     "metadata": {},
     "output_type": "execute_result"
    }
   ],
   "source": [
    "raw_data2.shape"
   ]
  },
  {
   "cell_type": "code",
   "execution_count": 5,
   "metadata": {},
   "outputs": [
    {
     "data": {
      "text/html": [
       "<div>\n",
       "<style scoped>\n",
       "    .dataframe tbody tr th:only-of-type {\n",
       "        vertical-align: middle;\n",
       "    }\n",
       "\n",
       "    .dataframe tbody tr th {\n",
       "        vertical-align: top;\n",
       "    }\n",
       "\n",
       "    .dataframe thead th {\n",
       "        text-align: right;\n",
       "    }\n",
       "</style>\n",
       "<table border=\"1\" class=\"dataframe\">\n",
       "  <thead>\n",
       "    <tr style=\"text-align: right;\">\n",
       "      <th></th>\n",
       "      <th>0</th>\n",
       "      <th>1</th>\n",
       "      <th>2</th>\n",
       "      <th>3</th>\n",
       "      <th>4</th>\n",
       "    </tr>\n",
       "  </thead>\n",
       "  <tbody>\n",
       "    <tr>\n",
       "      <th>id</th>\n",
       "      <td>657307</td>\n",
       "      <td>657259</td>\n",
       "      <td>658010</td>\n",
       "      <td>659347</td>\n",
       "      <td>656933</td>\n",
       "    </tr>\n",
       "    <tr>\n",
       "      <th>name</th>\n",
       "      <td>Aivy</td>\n",
       "      <td>Idalia Marizza</td>\n",
       "      <td>Aasia</td>\n",
       "      <td>Gulmira</td>\n",
       "      <td>Ricky\\t</td>\n",
       "    </tr>\n",
       "    <tr>\n",
       "      <th>original_language</th>\n",
       "      <td>English</td>\n",
       "      <td>Spanish</td>\n",
       "      <td>English</td>\n",
       "      <td>Russian</td>\n",
       "      <td>English</td>\n",
       "    </tr>\n",
       "    <tr>\n",
       "      <th>original_description</th>\n",
       "      <td>Aivy, 21 years of age, is single and lives in ...</td>\n",
       "      <td>Doña Idalia, esta casada, tiene 57 años de eda...</td>\n",
       "      <td>Aasia is a 45-year-old married lady and she ha...</td>\n",
       "      <td>Гулмире 36 лет, замужем, вместе с супругом вос...</td>\n",
       "      <td>Ricky is a farmer who currently cultivates his...</td>\n",
       "    </tr>\n",
       "    <tr>\n",
       "      <th>translated_description</th>\n",
       "      <td>NaN</td>\n",
       "      <td>Idalia, 57, is married and lives with her husb...</td>\n",
       "      <td>NaN</td>\n",
       "      <td>Gulmira is 36 years old and married.  She and ...</td>\n",
       "      <td>NaN</td>\n",
       "    </tr>\n",
       "    <tr>\n",
       "      <th>funded_amount</th>\n",
       "      <td>125</td>\n",
       "      <td>400</td>\n",
       "      <td>400</td>\n",
       "      <td>625</td>\n",
       "      <td>425</td>\n",
       "    </tr>\n",
       "    <tr>\n",
       "      <th>loan_amount</th>\n",
       "      <td>125</td>\n",
       "      <td>400</td>\n",
       "      <td>400</td>\n",
       "      <td>625</td>\n",
       "      <td>425</td>\n",
       "    </tr>\n",
       "    <tr>\n",
       "      <th>status</th>\n",
       "      <td>funded</td>\n",
       "      <td>funded</td>\n",
       "      <td>funded</td>\n",
       "      <td>funded</td>\n",
       "      <td>funded</td>\n",
       "    </tr>\n",
       "    <tr>\n",
       "      <th>image_id</th>\n",
       "      <td>1.51125e+06</td>\n",
       "      <td>1.50795e+06</td>\n",
       "      <td>1.51224e+06</td>\n",
       "      <td>1.51442e+06</td>\n",
       "      <td>1.50683e+06</td>\n",
       "    </tr>\n",
       "    <tr>\n",
       "      <th>video_id</th>\n",
       "      <td>NaN</td>\n",
       "      <td>NaN</td>\n",
       "      <td>NaN</td>\n",
       "      <td>NaN</td>\n",
       "      <td>NaN</td>\n",
       "    </tr>\n",
       "    <tr>\n",
       "      <th>activity</th>\n",
       "      <td>General Store</td>\n",
       "      <td>Used Clothing</td>\n",
       "      <td>General Store</td>\n",
       "      <td>Farming</td>\n",
       "      <td>Farming</td>\n",
       "    </tr>\n",
       "    <tr>\n",
       "      <th>sector</th>\n",
       "      <td>Retail</td>\n",
       "      <td>Clothing</td>\n",
       "      <td>Retail</td>\n",
       "      <td>Agriculture</td>\n",
       "      <td>Agriculture</td>\n",
       "    </tr>\n",
       "    <tr>\n",
       "      <th>use</th>\n",
       "      <td>to buy additional inventories for her sari-sa...</td>\n",
       "      <td>To buy American clothing such as blouses, shir...</td>\n",
       "      <td>to buy stock of rice, sugar and flour</td>\n",
       "      <td>to buy cucumber and tomato seeds, as well as f...</td>\n",
       "      <td>to buy organic fertilizer and agrochemical pr...</td>\n",
       "    </tr>\n",
       "    <tr>\n",
       "      <th>country_code</th>\n",
       "      <td>PH</td>\n",
       "      <td>HN</td>\n",
       "      <td>PK</td>\n",
       "      <td>KG</td>\n",
       "      <td>PH</td>\n",
       "    </tr>\n",
       "    <tr>\n",
       "      <th>country_name</th>\n",
       "      <td>Philippines</td>\n",
       "      <td>Honduras</td>\n",
       "      <td>Pakistan</td>\n",
       "      <td>Kyrgyzstan</td>\n",
       "      <td>Philippines</td>\n",
       "    </tr>\n",
       "    <tr>\n",
       "      <th>town</th>\n",
       "      <td>Ozamiz - Ozamiz City</td>\n",
       "      <td>La Lopez, Choloma</td>\n",
       "      <td>Lala Musa</td>\n",
       "      <td>Aravan village, Osh region</td>\n",
       "      <td>Baleleng, Sto. Thomas, Isabela</td>\n",
       "    </tr>\n",
       "    <tr>\n",
       "      <th>currency_policy</th>\n",
       "      <td>shared</td>\n",
       "      <td>shared</td>\n",
       "      <td>shared</td>\n",
       "      <td>shared</td>\n",
       "      <td>shared</td>\n",
       "    </tr>\n",
       "    <tr>\n",
       "      <th>currency_exchange_coverage_rate</th>\n",
       "      <td>0.1</td>\n",
       "      <td>0.1</td>\n",
       "      <td>0.1</td>\n",
       "      <td>0.1</td>\n",
       "      <td>0.1</td>\n",
       "    </tr>\n",
       "    <tr>\n",
       "      <th>currency</th>\n",
       "      <td>PHP</td>\n",
       "      <td>HNL</td>\n",
       "      <td>PKR</td>\n",
       "      <td>KGS</td>\n",
       "      <td>PHP</td>\n",
       "    </tr>\n",
       "    <tr>\n",
       "      <th>partner_id</th>\n",
       "      <td>126</td>\n",
       "      <td>201</td>\n",
       "      <td>245</td>\n",
       "      <td>171</td>\n",
       "      <td>123</td>\n",
       "    </tr>\n",
       "    <tr>\n",
       "      <th>posted_time</th>\n",
       "      <td>2014-01-15 02:23:45</td>\n",
       "      <td>2014-01-14 20:23:20</td>\n",
       "      <td>2014-01-16 11:32:58</td>\n",
       "      <td>2014-01-20 09:59:48</td>\n",
       "      <td>2014-01-14 05:46:21</td>\n",
       "    </tr>\n",
       "    <tr>\n",
       "      <th>planned_expiration_time</th>\n",
       "      <td>2014-02-14 03:30:06</td>\n",
       "      <td>2014-03-26 22:25:07</td>\n",
       "      <td>2014-02-15 21:10:05</td>\n",
       "      <td>2014-02-21 03:10:02</td>\n",
       "      <td>2014-02-13 06:10:02</td>\n",
       "    </tr>\n",
       "    <tr>\n",
       "      <th>disbursed_time</th>\n",
       "      <td>2013-12-22 08:00:00</td>\n",
       "      <td>2013-12-20 08:00:00</td>\n",
       "      <td>2014-01-09 08:00:00</td>\n",
       "      <td>2014-01-17 08:00:00</td>\n",
       "      <td>2013-12-17 08:00:00</td>\n",
       "    </tr>\n",
       "    <tr>\n",
       "      <th>funded_time</th>\n",
       "      <td>2014-01-15 04:48:22</td>\n",
       "      <td>2014-02-25 06:42:06</td>\n",
       "      <td>2014-01-24 23:06:18</td>\n",
       "      <td>2014-01-22 05:29:28</td>\n",
       "      <td>2014-01-14 17:29:27</td>\n",
       "    </tr>\n",
       "    <tr>\n",
       "      <th>term_in_months</th>\n",
       "      <td>7</td>\n",
       "      <td>8</td>\n",
       "      <td>14</td>\n",
       "      <td>14</td>\n",
       "      <td>7</td>\n",
       "    </tr>\n",
       "    <tr>\n",
       "      <th>lender_count</th>\n",
       "      <td>3</td>\n",
       "      <td>11</td>\n",
       "      <td>16</td>\n",
       "      <td>21</td>\n",
       "      <td>15</td>\n",
       "    </tr>\n",
       "    <tr>\n",
       "      <th>journal_entries_count</th>\n",
       "      <td>2</td>\n",
       "      <td>2</td>\n",
       "      <td>2</td>\n",
       "      <td>2</td>\n",
       "      <td>2</td>\n",
       "    </tr>\n",
       "    <tr>\n",
       "      <th>bulk_journal_entries_count</th>\n",
       "      <td>1</td>\n",
       "      <td>1</td>\n",
       "      <td>1</td>\n",
       "      <td>1</td>\n",
       "      <td>1</td>\n",
       "    </tr>\n",
       "    <tr>\n",
       "      <th>tags</th>\n",
       "      <td>NaN</td>\n",
       "      <td>NaN</td>\n",
       "      <td>#Woman Owned Biz, #Supporting Family, user_fav...</td>\n",
       "      <td>user_favorite</td>\n",
       "      <td>#Animals, #Eco-friendly, #Sustainable Ag</td>\n",
       "    </tr>\n",
       "    <tr>\n",
       "      <th>borrower_names</th>\n",
       "      <td>Aivy</td>\n",
       "      <td>Idalia Marizza</td>\n",
       "      <td>Aasia</td>\n",
       "      <td>Gulmira</td>\n",
       "      <td>Ricky\\t</td>\n",
       "    </tr>\n",
       "    <tr>\n",
       "      <th>borrower_genders</th>\n",
       "      <td>female</td>\n",
       "      <td>female</td>\n",
       "      <td>female</td>\n",
       "      <td>female</td>\n",
       "      <td>male</td>\n",
       "    </tr>\n",
       "    <tr>\n",
       "      <th>borrower_pictured</th>\n",
       "      <td>true</td>\n",
       "      <td>true</td>\n",
       "      <td>true</td>\n",
       "      <td>true</td>\n",
       "      <td>true</td>\n",
       "    </tr>\n",
       "    <tr>\n",
       "      <th>repayment_interval</th>\n",
       "      <td>irregular</td>\n",
       "      <td>monthly</td>\n",
       "      <td>monthly</td>\n",
       "      <td>monthly</td>\n",
       "      <td>bullet</td>\n",
       "    </tr>\n",
       "    <tr>\n",
       "      <th>distribution_model</th>\n",
       "      <td>field_partner</td>\n",
       "      <td>field_partner</td>\n",
       "      <td>field_partner</td>\n",
       "      <td>field_partner</td>\n",
       "      <td>field_partner</td>\n",
       "    </tr>\n",
       "  </tbody>\n",
       "</table>\n",
       "</div>"
      ],
      "text/plain": [
       "                                                                                 0  \\\n",
       "id                                                                          657307   \n",
       "name                                                                          Aivy   \n",
       "original_language                                                          English   \n",
       "original_description             Aivy, 21 years of age, is single and lives in ...   \n",
       "translated_description                                                         NaN   \n",
       "funded_amount                                                                  125   \n",
       "loan_amount                                                                    125   \n",
       "status                                                                      funded   \n",
       "image_id                                                               1.51125e+06   \n",
       "video_id                                                                       NaN   \n",
       "activity                                                             General Store   \n",
       "sector                                                                      Retail   \n",
       "use                               to buy additional inventories for her sari-sa...   \n",
       "country_code                                                                    PH   \n",
       "country_name                                                           Philippines   \n",
       "town                                                          Ozamiz - Ozamiz City   \n",
       "currency_policy                                                             shared   \n",
       "currency_exchange_coverage_rate                                                0.1   \n",
       "currency                                                                       PHP   \n",
       "partner_id                                                                     126   \n",
       "posted_time                                                    2014-01-15 02:23:45   \n",
       "planned_expiration_time                                        2014-02-14 03:30:06   \n",
       "disbursed_time                                                 2013-12-22 08:00:00   \n",
       "funded_time                                                    2014-01-15 04:48:22   \n",
       "term_in_months                                                                   7   \n",
       "lender_count                                                                     3   \n",
       "journal_entries_count                                                            2   \n",
       "bulk_journal_entries_count                                                       1   \n",
       "tags                                                                           NaN   \n",
       "borrower_names                                                                Aivy   \n",
       "borrower_genders                                                            female   \n",
       "borrower_pictured                                                             true   \n",
       "repayment_interval                                                       irregular   \n",
       "distribution_model                                                   field_partner   \n",
       "\n",
       "                                                                                 1  \\\n",
       "id                                                                          657259   \n",
       "name                                                                Idalia Marizza   \n",
       "original_language                                                          Spanish   \n",
       "original_description             Doña Idalia, esta casada, tiene 57 años de eda...   \n",
       "translated_description           Idalia, 57, is married and lives with her husb...   \n",
       "funded_amount                                                                  400   \n",
       "loan_amount                                                                    400   \n",
       "status                                                                      funded   \n",
       "image_id                                                               1.50795e+06   \n",
       "video_id                                                                       NaN   \n",
       "activity                                                             Used Clothing   \n",
       "sector                                                                    Clothing   \n",
       "use                              To buy American clothing such as blouses, shir...   \n",
       "country_code                                                                    HN   \n",
       "country_name                                                              Honduras   \n",
       "town                                                             La Lopez, Choloma   \n",
       "currency_policy                                                             shared   \n",
       "currency_exchange_coverage_rate                                                0.1   \n",
       "currency                                                                       HNL   \n",
       "partner_id                                                                     201   \n",
       "posted_time                                                    2014-01-14 20:23:20   \n",
       "planned_expiration_time                                        2014-03-26 22:25:07   \n",
       "disbursed_time                                                 2013-12-20 08:00:00   \n",
       "funded_time                                                    2014-02-25 06:42:06   \n",
       "term_in_months                                                                   8   \n",
       "lender_count                                                                    11   \n",
       "journal_entries_count                                                            2   \n",
       "bulk_journal_entries_count                                                       1   \n",
       "tags                                                                           NaN   \n",
       "borrower_names                                                      Idalia Marizza   \n",
       "borrower_genders                                                            female   \n",
       "borrower_pictured                                                             true   \n",
       "repayment_interval                                                         monthly   \n",
       "distribution_model                                                   field_partner   \n",
       "\n",
       "                                                                                 2  \\\n",
       "id                                                                          658010   \n",
       "name                                                                         Aasia   \n",
       "original_language                                                          English   \n",
       "original_description             Aasia is a 45-year-old married lady and she ha...   \n",
       "translated_description                                                         NaN   \n",
       "funded_amount                                                                  400   \n",
       "loan_amount                                                                    400   \n",
       "status                                                                      funded   \n",
       "image_id                                                               1.51224e+06   \n",
       "video_id                                                                       NaN   \n",
       "activity                                                             General Store   \n",
       "sector                                                                      Retail   \n",
       "use                                          to buy stock of rice, sugar and flour   \n",
       "country_code                                                                    PK   \n",
       "country_name                                                              Pakistan   \n",
       "town                                                                     Lala Musa   \n",
       "currency_policy                                                             shared   \n",
       "currency_exchange_coverage_rate                                                0.1   \n",
       "currency                                                                       PKR   \n",
       "partner_id                                                                     245   \n",
       "posted_time                                                    2014-01-16 11:32:58   \n",
       "planned_expiration_time                                        2014-02-15 21:10:05   \n",
       "disbursed_time                                                 2014-01-09 08:00:00   \n",
       "funded_time                                                    2014-01-24 23:06:18   \n",
       "term_in_months                                                                  14   \n",
       "lender_count                                                                    16   \n",
       "journal_entries_count                                                            2   \n",
       "bulk_journal_entries_count                                                       1   \n",
       "tags                             #Woman Owned Biz, #Supporting Family, user_fav...   \n",
       "borrower_names                                                               Aasia   \n",
       "borrower_genders                                                            female   \n",
       "borrower_pictured                                                             true   \n",
       "repayment_interval                                                         monthly   \n",
       "distribution_model                                                   field_partner   \n",
       "\n",
       "                                                                                 3  \\\n",
       "id                                                                          659347   \n",
       "name                                                                       Gulmira   \n",
       "original_language                                                          Russian   \n",
       "original_description             Гулмире 36 лет, замужем, вместе с супругом вос...   \n",
       "translated_description           Gulmira is 36 years old and married.  She and ...   \n",
       "funded_amount                                                                  625   \n",
       "loan_amount                                                                    625   \n",
       "status                                                                      funded   \n",
       "image_id                                                               1.51442e+06   \n",
       "video_id                                                                       NaN   \n",
       "activity                                                                   Farming   \n",
       "sector                                                                 Agriculture   \n",
       "use                              to buy cucumber and tomato seeds, as well as f...   \n",
       "country_code                                                                    KG   \n",
       "country_name                                                            Kyrgyzstan   \n",
       "town                                                    Aravan village, Osh region   \n",
       "currency_policy                                                             shared   \n",
       "currency_exchange_coverage_rate                                                0.1   \n",
       "currency                                                                       KGS   \n",
       "partner_id                                                                     171   \n",
       "posted_time                                                    2014-01-20 09:59:48   \n",
       "planned_expiration_time                                        2014-02-21 03:10:02   \n",
       "disbursed_time                                                 2014-01-17 08:00:00   \n",
       "funded_time                                                    2014-01-22 05:29:28   \n",
       "term_in_months                                                                  14   \n",
       "lender_count                                                                    21   \n",
       "journal_entries_count                                                            2   \n",
       "bulk_journal_entries_count                                                       1   \n",
       "tags                                                                 user_favorite   \n",
       "borrower_names                                                             Gulmira   \n",
       "borrower_genders                                                            female   \n",
       "borrower_pictured                                                             true   \n",
       "repayment_interval                                                         monthly   \n",
       "distribution_model                                                   field_partner   \n",
       "\n",
       "                                                                                 4  \n",
       "id                                                                          656933  \n",
       "name                                                                       Ricky\\t  \n",
       "original_language                                                          English  \n",
       "original_description             Ricky is a farmer who currently cultivates his...  \n",
       "translated_description                                                         NaN  \n",
       "funded_amount                                                                  425  \n",
       "loan_amount                                                                    425  \n",
       "status                                                                      funded  \n",
       "image_id                                                               1.50683e+06  \n",
       "video_id                                                                       NaN  \n",
       "activity                                                                   Farming  \n",
       "sector                                                                 Agriculture  \n",
       "use                               to buy organic fertilizer and agrochemical pr...  \n",
       "country_code                                                                    PH  \n",
       "country_name                                                           Philippines  \n",
       "town                                                Baleleng, Sto. Thomas, Isabela  \n",
       "currency_policy                                                             shared  \n",
       "currency_exchange_coverage_rate                                                0.1  \n",
       "currency                                                                       PHP  \n",
       "partner_id                                                                     123  \n",
       "posted_time                                                    2014-01-14 05:46:21  \n",
       "planned_expiration_time                                        2014-02-13 06:10:02  \n",
       "disbursed_time                                                 2013-12-17 08:00:00  \n",
       "funded_time                                                    2014-01-14 17:29:27  \n",
       "term_in_months                                                                   7  \n",
       "lender_count                                                                    15  \n",
       "journal_entries_count                                                            2  \n",
       "bulk_journal_entries_count                                                       1  \n",
       "tags                                      #Animals, #Eco-friendly, #Sustainable Ag  \n",
       "borrower_names                                                             Ricky\\t  \n",
       "borrower_genders                                                              male  \n",
       "borrower_pictured                                                             true  \n",
       "repayment_interval                                                          bullet  \n",
       "distribution_model                                                   field_partner  "
      ]
     },
     "execution_count": 5,
     "metadata": {},
     "output_type": "execute_result"
    }
   ],
   "source": [
    "raw_data2.head().transpose()"
   ]
  },
  {
   "cell_type": "markdown",
   "metadata": {},
   "source": [
    "# 2. Preprocess Data "
   ]
  },
  {
   "cell_type": "code",
   "execution_count": 6,
   "metadata": {
    "collapsed": true
   },
   "outputs": [],
   "source": [
    "df = raw_data2[['posted_time', 'original_description', 'translated_description', 'sector']]"
   ]
  },
  {
   "cell_type": "code",
   "execution_count": 7,
   "metadata": {},
   "outputs": [
    {
     "data": {
      "text/html": [
       "<div>\n",
       "<style scoped>\n",
       "    .dataframe tbody tr th:only-of-type {\n",
       "        vertical-align: middle;\n",
       "    }\n",
       "\n",
       "    .dataframe tbody tr th {\n",
       "        vertical-align: top;\n",
       "    }\n",
       "\n",
       "    .dataframe thead th {\n",
       "        text-align: right;\n",
       "    }\n",
       "</style>\n",
       "<table border=\"1\" class=\"dataframe\">\n",
       "  <thead>\n",
       "    <tr style=\"text-align: right;\">\n",
       "      <th></th>\n",
       "      <th>posted_time</th>\n",
       "      <th>original_description</th>\n",
       "      <th>translated_description</th>\n",
       "      <th>sector</th>\n",
       "    </tr>\n",
       "  </thead>\n",
       "  <tbody>\n",
       "    <tr>\n",
       "      <th>0</th>\n",
       "      <td>2014-01-15 02:23:45</td>\n",
       "      <td>Aivy, 21 years of age, is single and lives in ...</td>\n",
       "      <td>NaN</td>\n",
       "      <td>Retail</td>\n",
       "    </tr>\n",
       "    <tr>\n",
       "      <th>1</th>\n",
       "      <td>2014-01-14 20:23:20</td>\n",
       "      <td>Doña Idalia, esta casada, tiene 57 años de eda...</td>\n",
       "      <td>Idalia, 57, is married and lives with her husb...</td>\n",
       "      <td>Clothing</td>\n",
       "    </tr>\n",
       "    <tr>\n",
       "      <th>2</th>\n",
       "      <td>2014-01-16 11:32:58</td>\n",
       "      <td>Aasia is a 45-year-old married lady and she ha...</td>\n",
       "      <td>NaN</td>\n",
       "      <td>Retail</td>\n",
       "    </tr>\n",
       "    <tr>\n",
       "      <th>3</th>\n",
       "      <td>2014-01-20 09:59:48</td>\n",
       "      <td>Гулмире 36 лет, замужем, вместе с супругом вос...</td>\n",
       "      <td>Gulmira is 36 years old and married.  She and ...</td>\n",
       "      <td>Agriculture</td>\n",
       "    </tr>\n",
       "    <tr>\n",
       "      <th>4</th>\n",
       "      <td>2014-01-14 05:46:21</td>\n",
       "      <td>Ricky is a farmer who currently cultivates his...</td>\n",
       "      <td>NaN</td>\n",
       "      <td>Agriculture</td>\n",
       "    </tr>\n",
       "  </tbody>\n",
       "</table>\n",
       "</div>"
      ],
      "text/plain": [
       "          posted_time                               original_description  \\\n",
       "0 2014-01-15 02:23:45  Aivy, 21 years of age, is single and lives in ...   \n",
       "1 2014-01-14 20:23:20  Doña Idalia, esta casada, tiene 57 años de eda...   \n",
       "2 2014-01-16 11:32:58  Aasia is a 45-year-old married lady and she ha...   \n",
       "3 2014-01-20 09:59:48  Гулмире 36 лет, замужем, вместе с супругом вос...   \n",
       "4 2014-01-14 05:46:21  Ricky is a farmer who currently cultivates his...   \n",
       "\n",
       "                              translated_description       sector  \n",
       "0                                                NaN       Retail  \n",
       "1  Idalia, 57, is married and lives with her husb...     Clothing  \n",
       "2                                                NaN       Retail  \n",
       "3  Gulmira is 36 years old and married.  She and ...  Agriculture  \n",
       "4                                                NaN  Agriculture  "
      ]
     },
     "execution_count": 7,
     "metadata": {},
     "output_type": "execute_result"
    }
   ],
   "source": [
    "df.head()"
   ]
  },
  {
   "cell_type": "code",
   "execution_count": 8,
   "metadata": {
    "collapsed": true
   },
   "outputs": [],
   "source": [
    "# Create new column: loan_description (translated by defatult, original if translated is missing)\n",
    "df['loan_description'] = df['translated_description'] # Default, to be overwritten below\n",
    "df.loc[df['loan_description'] != df['loan_description'], 'loan_description'] = df.original_description"
   ]
  },
  {
   "cell_type": "code",
   "execution_count": 9,
   "metadata": {},
   "outputs": [
    {
     "data": {
      "text/html": [
       "<div>\n",
       "<style scoped>\n",
       "    .dataframe tbody tr th:only-of-type {\n",
       "        vertical-align: middle;\n",
       "    }\n",
       "\n",
       "    .dataframe tbody tr th {\n",
       "        vertical-align: top;\n",
       "    }\n",
       "\n",
       "    .dataframe thead th {\n",
       "        text-align: right;\n",
       "    }\n",
       "</style>\n",
       "<table border=\"1\" class=\"dataframe\">\n",
       "  <thead>\n",
       "    <tr style=\"text-align: right;\">\n",
       "      <th></th>\n",
       "      <th>posted_time</th>\n",
       "      <th>original_description</th>\n",
       "      <th>translated_description</th>\n",
       "      <th>sector</th>\n",
       "      <th>loan_description</th>\n",
       "    </tr>\n",
       "  </thead>\n",
       "  <tbody>\n",
       "    <tr>\n",
       "      <th>0</th>\n",
       "      <td>2014-01-15 02:23:45</td>\n",
       "      <td>Aivy, 21 years of age, is single and lives in ...</td>\n",
       "      <td>NaN</td>\n",
       "      <td>Retail</td>\n",
       "      <td>Aivy, 21 years of age, is single and lives in ...</td>\n",
       "    </tr>\n",
       "    <tr>\n",
       "      <th>1</th>\n",
       "      <td>2014-01-14 20:23:20</td>\n",
       "      <td>Doña Idalia, esta casada, tiene 57 años de eda...</td>\n",
       "      <td>Idalia, 57, is married and lives with her husb...</td>\n",
       "      <td>Clothing</td>\n",
       "      <td>Idalia, 57, is married and lives with her husb...</td>\n",
       "    </tr>\n",
       "    <tr>\n",
       "      <th>2</th>\n",
       "      <td>2014-01-16 11:32:58</td>\n",
       "      <td>Aasia is a 45-year-old married lady and she ha...</td>\n",
       "      <td>NaN</td>\n",
       "      <td>Retail</td>\n",
       "      <td>Aasia is a 45-year-old married lady and she ha...</td>\n",
       "    </tr>\n",
       "    <tr>\n",
       "      <th>3</th>\n",
       "      <td>2014-01-20 09:59:48</td>\n",
       "      <td>Гулмире 36 лет, замужем, вместе с супругом вос...</td>\n",
       "      <td>Gulmira is 36 years old and married.  She and ...</td>\n",
       "      <td>Agriculture</td>\n",
       "      <td>Gulmira is 36 years old and married.  She and ...</td>\n",
       "    </tr>\n",
       "    <tr>\n",
       "      <th>4</th>\n",
       "      <td>2014-01-14 05:46:21</td>\n",
       "      <td>Ricky is a farmer who currently cultivates his...</td>\n",
       "      <td>NaN</td>\n",
       "      <td>Agriculture</td>\n",
       "      <td>Ricky is a farmer who currently cultivates his...</td>\n",
       "    </tr>\n",
       "  </tbody>\n",
       "</table>\n",
       "</div>"
      ],
      "text/plain": [
       "          posted_time                               original_description  \\\n",
       "0 2014-01-15 02:23:45  Aivy, 21 years of age, is single and lives in ...   \n",
       "1 2014-01-14 20:23:20  Doña Idalia, esta casada, tiene 57 años de eda...   \n",
       "2 2014-01-16 11:32:58  Aasia is a 45-year-old married lady and she ha...   \n",
       "3 2014-01-20 09:59:48  Гулмире 36 лет, замужем, вместе с супругом вос...   \n",
       "4 2014-01-14 05:46:21  Ricky is a farmer who currently cultivates his...   \n",
       "\n",
       "                              translated_description       sector  \\\n",
       "0                                                NaN       Retail   \n",
       "1  Idalia, 57, is married and lives with her husb...     Clothing   \n",
       "2                                                NaN       Retail   \n",
       "3  Gulmira is 36 years old and married.  She and ...  Agriculture   \n",
       "4                                                NaN  Agriculture   \n",
       "\n",
       "                                    loan_description  \n",
       "0  Aivy, 21 years of age, is single and lives in ...  \n",
       "1  Idalia, 57, is married and lives with her husb...  \n",
       "2  Aasia is a 45-year-old married lady and she ha...  \n",
       "3  Gulmira is 36 years old and married.  She and ...  \n",
       "4  Ricky is a farmer who currently cultivates his...  "
      ]
     },
     "execution_count": 9,
     "metadata": {},
     "output_type": "execute_result"
    }
   ],
   "source": [
    "df.head()"
   ]
  },
  {
   "cell_type": "code",
   "execution_count": 10,
   "metadata": {},
   "outputs": [
    {
     "data": {
      "text/html": [
       "<div>\n",
       "<style scoped>\n",
       "    .dataframe tbody tr th:only-of-type {\n",
       "        vertical-align: middle;\n",
       "    }\n",
       "\n",
       "    .dataframe tbody tr th {\n",
       "        vertical-align: top;\n",
       "    }\n",
       "\n",
       "    .dataframe thead th {\n",
       "        text-align: right;\n",
       "    }\n",
       "</style>\n",
       "<table border=\"1\" class=\"dataframe\">\n",
       "  <thead>\n",
       "    <tr style=\"text-align: right;\">\n",
       "      <th></th>\n",
       "      <th>posted_time</th>\n",
       "      <th>original_description</th>\n",
       "      <th>translated_description</th>\n",
       "      <th>sector</th>\n",
       "      <th>loan_description</th>\n",
       "    </tr>\n",
       "  </thead>\n",
       "  <tbody>\n",
       "    <tr>\n",
       "      <th>count</th>\n",
       "      <td>1419607</td>\n",
       "      <td>1376322</td>\n",
       "      <td>966929</td>\n",
       "      <td>1419607</td>\n",
       "      <td>1376322</td>\n",
       "    </tr>\n",
       "    <tr>\n",
       "      <th>unique</th>\n",
       "      <td>1415162</td>\n",
       "      <td>1372656</td>\n",
       "      <td>963356</td>\n",
       "      <td>15</td>\n",
       "      <td>1372725</td>\n",
       "    </tr>\n",
       "    <tr>\n",
       "      <th>top</th>\n",
       "      <td>2006-04-16 07:10:50</td>\n",
       "      <td>Ella tiene 29 anos de edad y habita en casa pr...</td>\n",
       "      <td>A sign seen on an automatic restroom hand drye...</td>\n",
       "      <td>Agriculture</td>\n",
       "      <td>A sign seen on an automatic restroom hand drye...</td>\n",
       "    </tr>\n",
       "    <tr>\n",
       "      <th>freq</th>\n",
       "      <td>207</td>\n",
       "      <td>18</td>\n",
       "      <td>24</td>\n",
       "      <td>345950</td>\n",
       "      <td>24</td>\n",
       "    </tr>\n",
       "    <tr>\n",
       "      <th>first</th>\n",
       "      <td>2006-04-16 07:10:50</td>\n",
       "      <td>NaN</td>\n",
       "      <td>NaN</td>\n",
       "      <td>NaN</td>\n",
       "      <td>NaN</td>\n",
       "    </tr>\n",
       "    <tr>\n",
       "      <th>last</th>\n",
       "      <td>2018-01-11 07:11:23</td>\n",
       "      <td>NaN</td>\n",
       "      <td>NaN</td>\n",
       "      <td>NaN</td>\n",
       "      <td>NaN</td>\n",
       "    </tr>\n",
       "  </tbody>\n",
       "</table>\n",
       "</div>"
      ],
      "text/plain": [
       "                posted_time  \\\n",
       "count               1419607   \n",
       "unique              1415162   \n",
       "top     2006-04-16 07:10:50   \n",
       "freq                    207   \n",
       "first   2006-04-16 07:10:50   \n",
       "last    2018-01-11 07:11:23   \n",
       "\n",
       "                                     original_description  \\\n",
       "count                                             1376322   \n",
       "unique                                            1372656   \n",
       "top     Ella tiene 29 anos de edad y habita en casa pr...   \n",
       "freq                                                   18   \n",
       "first                                                 NaN   \n",
       "last                                                  NaN   \n",
       "\n",
       "                                   translated_description       sector  \\\n",
       "count                                              966929      1419607   \n",
       "unique                                             963356           15   \n",
       "top     A sign seen on an automatic restroom hand drye...  Agriculture   \n",
       "freq                                                   24       345950   \n",
       "first                                                 NaN          NaN   \n",
       "last                                                  NaN          NaN   \n",
       "\n",
       "                                         loan_description  \n",
       "count                                             1376322  \n",
       "unique                                            1372725  \n",
       "top     A sign seen on an automatic restroom hand drye...  \n",
       "freq                                                   24  \n",
       "first                                                 NaN  \n",
       "last                                                  NaN  "
      ]
     },
     "execution_count": 10,
     "metadata": {},
     "output_type": "execute_result"
    }
   ],
   "source": [
    "df.describe(include='all')"
   ]
  },
  {
   "cell_type": "code",
   "execution_count": 11,
   "metadata": {
    "collapsed": true
   },
   "outputs": [],
   "source": [
    "df_final = df[['posted_time', 'loan_description', 'sector']]"
   ]
  },
  {
   "cell_type": "markdown",
   "metadata": {},
   "source": [
    "**Removing Missings**"
   ]
  },
  {
   "cell_type": "code",
   "execution_count": 12,
   "metadata": {},
   "outputs": [
    {
     "data": {
      "text/html": [
       "<div>\n",
       "<style scoped>\n",
       "    .dataframe tbody tr th:only-of-type {\n",
       "        vertical-align: middle;\n",
       "    }\n",
       "\n",
       "    .dataframe tbody tr th {\n",
       "        vertical-align: top;\n",
       "    }\n",
       "\n",
       "    .dataframe thead th {\n",
       "        text-align: right;\n",
       "    }\n",
       "</style>\n",
       "<table border=\"1\" class=\"dataframe\">\n",
       "  <thead>\n",
       "    <tr style=\"text-align: right;\">\n",
       "      <th></th>\n",
       "      <th>NaNs</th>\n",
       "    </tr>\n",
       "  </thead>\n",
       "  <tbody>\n",
       "    <tr>\n",
       "      <th>posted_time</th>\n",
       "      <td>0</td>\n",
       "    </tr>\n",
       "    <tr>\n",
       "      <th>loan_description</th>\n",
       "      <td>43285</td>\n",
       "    </tr>\n",
       "    <tr>\n",
       "      <th>sector</th>\n",
       "      <td>0</td>\n",
       "    </tr>\n",
       "  </tbody>\n",
       "</table>\n",
       "</div>"
      ],
      "text/plain": [
       "                   NaNs\n",
       "posted_time           0\n",
       "loan_description  43285\n",
       "sector                0"
      ]
     },
     "execution_count": 12,
     "metadata": {},
     "output_type": "execute_result"
    }
   ],
   "source": [
    "pd.DataFrame({'NaNs': df_final.isnull().sum()})"
   ]
  },
  {
   "cell_type": "code",
   "execution_count": 13,
   "metadata": {
    "collapsed": true
   },
   "outputs": [],
   "source": [
    "df_final = df_final.query('loan_description == loan_description')"
   ]
  },
  {
   "cell_type": "code",
   "execution_count": 14,
   "metadata": {},
   "outputs": [
    {
     "data": {
      "text/plain": [
       "(1376322, 3)"
      ]
     },
     "execution_count": 14,
     "metadata": {},
     "output_type": "execute_result"
    }
   ],
   "source": [
    "df_final.shape"
   ]
  },
  {
   "cell_type": "markdown",
   "metadata": {},
   "source": [
    "**Imbalanced Classes:**"
   ]
  },
  {
   "cell_type": "code",
   "execution_count": 79,
   "metadata": {
    "scrolled": false
   },
   "outputs": [
    {
     "data": {
      "image/png": "[encoded data removed]",
      "text/plain": [
       "<Figure size 864x432 with 1 Axes>"
      ]
     },
     "metadata": {},
     "output_type": "display_data"
    }
   ],
   "source": [
    "fig = plt.figure(figsize=(12,6))\n",
    "df_final.groupby('sector').loan_description.count().plot.bar(ylim=0, color=['red', 'green', 'blue', 'orange', 'purple', 'darkslateblue', 'pink', 'brown', 'gray', 'magenta', 'black', 'steelblue', 'firebrick', 'goldenrod', 'lawngreen'])\n",
    "plt.title(\"Response/Dependent Variable: Sector\")\n",
    "plt.savefig('imbalanced_classes.png')\n",
    "plt.show()"
   ]
  },
  {
   "cell_type": "code",
   "execution_count": 16,
   "metadata": {
    "scrolled": true
   },
   "outputs": [
    {
     "data": {
      "text/plain": [
       "Agriculture       24.358689\n",
       "Food              22.717431\n",
       "Retail            20.249259\n",
       "Services           7.237042\n",
       "Clothing           5.694016\n",
       "Housing            4.244646\n",
       "Personal Use       3.613762\n",
       "Education          3.249312\n",
       "Transportation     2.754515\n",
       "Arts               1.983765\n",
       "Construction       1.317788\n",
       "Health             1.169494\n",
       "Manufacturing      1.117180\n",
       "Wholesale          0.146986\n",
       "Entertainment      0.146114\n",
       "Name: sector, dtype: float64"
      ]
     },
     "execution_count": 16,
     "metadata": {},
     "output_type": "execute_result"
    }
   ],
   "source": [
    "df_final.sector.value_counts()/df_final.shape[0]*100"
   ]
  },
  {
   "cell_type": "code",
   "execution_count": 17,
   "metadata": {
    "scrolled": true
   },
   "outputs": [
    {
     "data": {
      "text/plain": [
       "(4034, 3)"
      ]
     },
     "execution_count": 17,
     "metadata": {},
     "output_type": "execute_result"
    }
   ],
   "source": [
    "df_final.query('sector == [\"Entertainment\", \"Wholesale\"]').shape"
   ]
  },
  {
   "cell_type": "markdown",
   "metadata": {},
   "source": [
    "**Remove Sectors with <1% **"
   ]
  },
  {
   "cell_type": "code",
   "execution_count": 18,
   "metadata": {
    "collapsed": true
   },
   "outputs": [],
   "source": [
    "df2_final = df_final.query('sector != [\"Entertainment\", \"Wholesale\"]')"
   ]
  },
  {
   "cell_type": "code",
   "execution_count": 19,
   "metadata": {},
   "outputs": [
    {
     "data": {
      "text/plain": [
       "(1372288, 3)"
      ]
     },
     "execution_count": 19,
     "metadata": {},
     "output_type": "execute_result"
    }
   ],
   "source": [
    "df2_final.shape"
   ]
  },
  {
   "cell_type": "code",
   "execution_count": 20,
   "metadata": {
    "scrolled": true
   },
   "outputs": [
    {
     "data": {
      "text/html": [
       "<div>\n",
       "<style scoped>\n",
       "    .dataframe tbody tr th:only-of-type {\n",
       "        vertical-align: middle;\n",
       "    }\n",
       "\n",
       "    .dataframe tbody tr th {\n",
       "        vertical-align: top;\n",
       "    }\n",
       "\n",
       "    .dataframe thead th {\n",
       "        text-align: right;\n",
       "    }\n",
       "</style>\n",
       "<table border=\"1\" class=\"dataframe\">\n",
       "  <thead>\n",
       "    <tr style=\"text-align: right;\">\n",
       "      <th></th>\n",
       "      <th>posted_time</th>\n",
       "      <th>loan_description</th>\n",
       "      <th>sector</th>\n",
       "    </tr>\n",
       "  </thead>\n",
       "  <tbody>\n",
       "    <tr>\n",
       "      <th>0</th>\n",
       "      <td>2014-01-15 02:23:45</td>\n",
       "      <td>Aivy, 21 years of age, is single and lives in ...</td>\n",
       "      <td>Retail</td>\n",
       "    </tr>\n",
       "    <tr>\n",
       "      <th>1</th>\n",
       "      <td>2014-01-14 20:23:20</td>\n",
       "      <td>Idalia, 57, is married and lives with her husb...</td>\n",
       "      <td>Clothing</td>\n",
       "    </tr>\n",
       "    <tr>\n",
       "      <th>2</th>\n",
       "      <td>2014-01-16 11:32:58</td>\n",
       "      <td>Aasia is a 45-year-old married lady and she ha...</td>\n",
       "      <td>Retail</td>\n",
       "    </tr>\n",
       "    <tr>\n",
       "      <th>3</th>\n",
       "      <td>2014-01-20 09:59:48</td>\n",
       "      <td>Gulmira is 36 years old and married.  She and ...</td>\n",
       "      <td>Agriculture</td>\n",
       "    </tr>\n",
       "    <tr>\n",
       "      <th>4</th>\n",
       "      <td>2014-01-14 05:46:21</td>\n",
       "      <td>Ricky is a farmer who currently cultivates his...</td>\n",
       "      <td>Agriculture</td>\n",
       "    </tr>\n",
       "  </tbody>\n",
       "</table>\n",
       "</div>"
      ],
      "text/plain": [
       "          posted_time                                   loan_description  \\\n",
       "0 2014-01-15 02:23:45  Aivy, 21 years of age, is single and lives in ...   \n",
       "1 2014-01-14 20:23:20  Idalia, 57, is married and lives with her husb...   \n",
       "2 2014-01-16 11:32:58  Aasia is a 45-year-old married lady and she ha...   \n",
       "3 2014-01-20 09:59:48  Gulmira is 36 years old and married.  She and ...   \n",
       "4 2014-01-14 05:46:21  Ricky is a farmer who currently cultivates his...   \n",
       "\n",
       "        sector  \n",
       "0       Retail  \n",
       "1     Clothing  \n",
       "2       Retail  \n",
       "3  Agriculture  \n",
       "4  Agriculture  "
      ]
     },
     "execution_count": 20,
     "metadata": {},
     "output_type": "execute_result"
    }
   ],
   "source": [
    "df2_final.head()"
   ]
  },
  {
   "cell_type": "code",
   "execution_count": null,
   "metadata": {
    "collapsed": true
   },
   "outputs": [],
   "source": [
    "data = df2_final.query('posted_time >= 2014 and posted_time < 2018')"
   ]
  },
  {
   "cell_type": "markdown",
   "metadata": {},
   "source": [
    "**Attempted a CNN model but didn't yield good results...**"
   ]
  },
  {
   "cell_type": "code",
   "execution_count": 39,
   "metadata": {
    "collapsed": true
   },
   "outputs": [],
   "source": [
    "data['sector_id'] = data['sector'].factorize()[0]"
   ]
  },
  {
   "cell_type": "code",
   "execution_count": 40,
   "metadata": {},
   "outputs": [
    {
     "data": {
      "text/html": [
       "<div>\n",
       "<style scoped>\n",
       "    .dataframe tbody tr th:only-of-type {\n",
       "        vertical-align: middle;\n",
       "    }\n",
       "\n",
       "    .dataframe tbody tr th {\n",
       "        vertical-align: top;\n",
       "    }\n",
       "\n",
       "    .dataframe thead th {\n",
       "        text-align: right;\n",
       "    }\n",
       "</style>\n",
       "<table border=\"1\" class=\"dataframe\">\n",
       "  <thead>\n",
       "    <tr style=\"text-align: right;\">\n",
       "      <th></th>\n",
       "      <th>posted_time</th>\n",
       "      <th>loan_description</th>\n",
       "      <th>sector</th>\n",
       "      <th>sector_id</th>\n",
       "    </tr>\n",
       "  </thead>\n",
       "  <tbody>\n",
       "    <tr>\n",
       "      <th>0</th>\n",
       "      <td>2014-01-15 02:23:45</td>\n",
       "      <td>Aivy, 21 years of age, is single and lives in ...</td>\n",
       "      <td>Retail</td>\n",
       "      <td>0</td>\n",
       "    </tr>\n",
       "    <tr>\n",
       "      <th>1</th>\n",
       "      <td>2014-01-14 20:23:20</td>\n",
       "      <td>Idalia, 57, is married and lives with her husb...</td>\n",
       "      <td>Clothing</td>\n",
       "      <td>1</td>\n",
       "    </tr>\n",
       "    <tr>\n",
       "      <th>2</th>\n",
       "      <td>2014-01-16 11:32:58</td>\n",
       "      <td>Aasia is a 45-year-old married lady and she ha...</td>\n",
       "      <td>Retail</td>\n",
       "      <td>0</td>\n",
       "    </tr>\n",
       "    <tr>\n",
       "      <th>3</th>\n",
       "      <td>2014-01-20 09:59:48</td>\n",
       "      <td>Gulmira is 36 years old and married.  She and ...</td>\n",
       "      <td>Agriculture</td>\n",
       "      <td>2</td>\n",
       "    </tr>\n",
       "    <tr>\n",
       "      <th>4</th>\n",
       "      <td>2014-01-14 05:46:21</td>\n",
       "      <td>Ricky is a farmer who currently cultivates his...</td>\n",
       "      <td>Agriculture</td>\n",
       "      <td>2</td>\n",
       "    </tr>\n",
       "  </tbody>\n",
       "</table>\n",
       "</div>"
      ],
      "text/plain": [
       "          posted_time                                   loan_description  \\\n",
       "0 2014-01-15 02:23:45  Aivy, 21 years of age, is single and lives in ...   \n",
       "1 2014-01-14 20:23:20  Idalia, 57, is married and lives with her husb...   \n",
       "2 2014-01-16 11:32:58  Aasia is a 45-year-old married lady and she ha...   \n",
       "3 2014-01-20 09:59:48  Gulmira is 36 years old and married.  She and ...   \n",
       "4 2014-01-14 05:46:21  Ricky is a farmer who currently cultivates his...   \n",
       "\n",
       "        sector  sector_id  \n",
       "0       Retail          0  \n",
       "1     Clothing          1  \n",
       "2       Retail          0  \n",
       "3  Agriculture          2  \n",
       "4  Agriculture          2  "
      ]
     },
     "execution_count": 40,
     "metadata": {},
     "output_type": "execute_result"
    }
   ],
   "source": [
    "data.head()"
   ]
  },
  {
   "cell_type": "code",
   "execution_count": 41,
   "metadata": {
    "collapsed": true
   },
   "outputs": [],
   "source": [
    "sector_id_df_final = data[['sector', 'sector_id']].drop_duplicates().sort_values('sector_id')\n",
    "sector_to_id_final = dict(sector_id_df_final.values)\n",
    "id_to_sector_final = dict(sector_id_df_final[['sector_id', 'sector']].values)"
   ]
  },
  {
   "cell_type": "code",
   "execution_count": 42,
   "metadata": {
    "collapsed": true
   },
   "outputs": [],
   "source": [
    "X_train, X_valid, y_train2, y_valid2 = train_test_split(data['loan_description'], data['sector_id'], random_state = 0)"
   ]
  },
  {
   "cell_type": "code",
   "execution_count": 43,
   "metadata": {},
   "outputs": [
    {
     "data": {
      "text/plain": [
       "((569721,), (189907,), (569721,), (189907,))"
      ]
     },
     "execution_count": 43,
     "metadata": {},
     "output_type": "execute_result"
    }
   ],
   "source": [
    "X_train.shape, X_valid.shape, y_train2.shape, y_valid2.shape"
   ]
  },
  {
   "cell_type": "code",
   "execution_count": 44,
   "metadata": {
    "collapsed": true
   },
   "outputs": [],
   "source": [
    "# load the pre-trained word-embedding vectors \n",
    "embeddings_index = {}\n",
    "for i, line in enumerate(open('wiki-news-300d-1M.vec')):\n",
    "    values = line.split()\n",
    "    embeddings_index[values[0]] = np.asarray(values[1:], dtype='float32')"
   ]
  },
  {
   "cell_type": "code",
   "execution_count": 45,
   "metadata": {
    "collapsed": true
   },
   "outputs": [],
   "source": [
    "# create a tokenizer \n",
    "token = text.Tokenizer()\n",
    "token.fit_on_texts(data['loan_description'])\n",
    "word_index = token.word_index\n",
    "\n",
    "# convert text to sequence of tokens and pad them to ensure equal length vectors \n",
    "train_seq_x = sequence.pad_sequences(token.texts_to_sequences(X_train), maxlen=100)\n",
    "valid_seq_x = sequence.pad_sequences(token.texts_to_sequences(X_valid), maxlen=100)\n",
    "\n",
    "# create token-embedding mapping\n",
    "embedding_matrix = np.zeros((len(word_index) + 1, 300))\n",
    "for word, i in word_index.items():\n",
    "    embedding_vector = embeddings_index.get(word)\n",
    "    if embedding_vector is not None:\n",
    "        embedding_matrix[i] = embedding_vector"
   ]
  },
  {
   "cell_type": "code",
   "execution_count": 46,
   "metadata": {},
   "outputs": [
    {
     "name": "stdout",
     "output_type": "stream",
     "text": [
      "x_train shape: (569721, 100)\n",
      "x_test shape: (189907, 100)\n"
     ]
    }
   ],
   "source": [
    "print('x_train shape:', train_seq_x.shape)\n",
    "print('x_test shape:', valid_seq_x.shape)"
   ]
  },
  {
   "cell_type": "code",
   "execution_count": 47,
   "metadata": {},
   "outputs": [
    {
     "name": "stdout",
     "output_type": "stream",
     "text": [
      "Build model...\n"
     ]
    }
   ],
   "source": [
    "print('Build model...')\n",
    "# Add an Input Layer\n",
    "input_layer = layers.Input((100, ))\n",
    "\n",
    "# Add the word embedding Layer\n",
    "embedding_layer = layers.Embedding(len(word_index) + 1, 300, weights=[embedding_matrix], trainable=False)(input_layer)\n",
    "embedding_layer = layers.SpatialDropout1D(0.3)(embedding_layer)\n",
    "\n",
    "# Add the convolutional Layer\n",
    "conv_layer = layers.Convolution1D(100, 3, activation=\"relu\")(embedding_layer)\n",
    "\n",
    "# Add the pooling Layer\n",
    "pooling_layer = layers.GlobalMaxPool1D()(conv_layer)\n",
    "\n",
    "# Add the output Layers\n",
    "output_layer1 = layers.Dense(50, activation=\"relu\")(pooling_layer)\n",
    "output_layer1 = layers.Dropout(0.25)(output_layer1)\n",
    "output_layer2 = layers.Dense(1, activation=\"sigmoid\")(output_layer1)\n",
    "\n",
    "# Compile the model\n",
    "model = models.Model(inputs=input_layer, outputs=output_layer2)\n",
    "\n",
    "model.compile(loss='binary_crossentropy',\n",
    "              optimizer='adam',\n",
    "              metrics=['accuracy'])"
   ]
  },
  {
   "cell_type": "code",
   "execution_count": 48,
   "metadata": {},
   "outputs": [
    {
     "name": "stdout",
     "output_type": "stream",
     "text": [
      "Training model...\n",
      "Epoch 1/1\n",
      "569721/569721 [==============================] - 765s 1ms/step - loss: -35.8332 - acc: 0.0488\n"
     ]
    },
    {
     "data": {
      "text/plain": [
       "<keras.callbacks.History at 0x13cc2fcf8>"
      ]
     },
     "execution_count": 48,
     "metadata": {},
     "output_type": "execute_result"
    }
   ],
   "source": [
    "print('Training model...')\n",
    "model.fit(train_seq_x, y_train2)"
   ]
  },
  {
   "cell_type": "code",
   "execution_count": 68,
   "metadata": {},
   "outputs": [
    {
     "name": "stdout",
     "output_type": "stream",
     "text": [
      "189907/189907 [==============================] - 61s 323us/step\n"
     ]
    }
   ],
   "source": [
    "score = model.evaluate(valid_seq_x, y_valid2)"
   ]
  },
  {
   "cell_type": "code",
   "execution_count": 70,
   "metadata": {
    "collapsed": true
   },
   "outputs": [],
   "source": [
    "predictions4 = model.predict(valid_seq_x)"
   ]
  },
  {
   "cell_type": "code",
   "execution_count": 71,
   "metadata": {
    "collapsed": true
   },
   "outputs": [],
   "source": [
    "predictions4 = predictions.argmax(axis=-1)"
   ]
  },
  {
   "cell_type": "code",
   "execution_count": 72,
   "metadata": {},
   "outputs": [
    {
     "name": "stdout",
     "output_type": "stream",
     "text": [
      "Test score: -35.9\n"
     ]
    }
   ],
   "source": [
    "print('Test score: {:.3}'.format(score))"
   ]
  },
  {
   "cell_type": "code",
   "execution_count": 73,
   "metadata": {},
   "outputs": [
    {
     "data": {
      "text/plain": [
       "0.18546972992043473"
      ]
     },
     "execution_count": 73,
     "metadata": {},
     "output_type": "execute_result"
    }
   ],
   "source": [
    "accuracy_score(predictions4, y_valid2)"
   ]
  },
  {
   "cell_type": "code",
   "execution_count": null,
   "metadata": {
    "collapsed": true
   },
   "outputs": [],
   "source": []
  },
  {
   "cell_type": "code",
   "execution_count": null,
   "metadata": {
    "collapsed": true
   },
   "outputs": [],
   "source": []
  }
 ],
 "metadata": {
  "kernelspec": {
   "display_name": "Python 3",
   "language": "python",
   "name": "python3"
  },
  "language_info": {
   "codemirror_mode": {
    "name": "ipython",
    "version": 3
   },
   "file_extension": ".py",
   "mimetype": "text/x-python",
   "name": "python",
   "nbconvert_exporter": "python",
   "pygments_lexer": "ipython3",
   "version": "3.6.1"
  }
 },
 "nbformat": 4,
 "nbformat_minor": 2
}
